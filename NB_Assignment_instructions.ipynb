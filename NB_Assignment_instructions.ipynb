{
 "cells": [
  {
   "cell_type": "markdown",
   "metadata": {
    "id": "Dnubs-Nnb3cw"
   },
   "source": [
    "# Assignment 6: Apply NB"
   ]
  },
  {
   "cell_type": "markdown",
   "metadata": {
    "id": "RW0zYHb5m_wI"
   },
   "source": [
    "<ol>\n",
    "    <li>Minimum data points need to be considered for people having 4GB RAM is <strong>50k</strong> and for 8GB RAM is <strong>100k</strong></li>\n",
    "    <li>When you are using ramdomsearchcv or gridsearchcv you need not split the data into X_train,X_cv,X_test. As the above methods use kfold. The model will learn better if train data is more so splitting to X_train,X_test will suffice.</li>\n",
    "    <li>If you are writing for loops to tune your model then you need split the data into X_train,X_cv,X_test.</li>\n",
    "    <li>While splitting the data explore stratify parameter. </li>\n",
    "    <li><strong>Apply Multinomial NB on these feature sets</strong></li>\n",
    "        <ul>\n",
    "            <li>Features that need to be considered</li> \n",
    "                <dl>\n",
    "                  <dt>essay</dt>\n",
    "                    <dd>while encoding essay, try to experiment with the max_features and n_grams parameter of vectorizers and see if it increases AUC score.</dd>\n",
    "                  <dt>categorical features</dt>\n",
    "                  <dd> - teacher_prefix</dd>\n",
    "                  <dd> - project_grade_category</dd>\n",
    "                  <dd> - school_state</dd>\n",
    "                  <dd> - clean_categories</dd>\n",
    "                  <dd> - clean_subcategories</dd>\n",
    "                  <dt>numerical features</dt>\n",
    "                  <dd> - price</dd>\n",
    "                  <dd> - teacher_number_of_previously_posted_projects</dd>\n",
    "                  <dd>while encoding the numerical features check <a href='https://imgur.com/ldZA1zg'>this</a> and <a href='https://ac-classroom-production.s3.amazonaws.com/public/COMMENT/Annotation_2020-05-21_225912_0lyZzN8.jpg'>this</a></dd>\n",
    "                </dl>    \n",
    "            <li><font color='red'>Set 1</font>: categorical, numerical features + preprocessed_eassay (BOW)</li>\n",
    "            <li><font color='red'>Set 2</font>: categorical, numerical features + preprocessed_eassay (TFIDF)</li>\n",
    "        </ul>\n",
    "    <li><strong>The hyper paramter tuning(find best alpha:smoothing parameter)</strong>\n",
    "        <ul>\n",
    "    <li>Consider alpha values in range: 10^-5 to 10^2 like [0.00001,0.0005, 0.0001,0.005,0.001,0.05,0.01,0.1,0.5,1,5,10,50,100]</li>\n",
    "    <li>Explore class_prior = [0.5, 0.5] parameter which can be present in MultinomialNB function(go through <a href='https://scikit-learn.org/stable/modules/generated/sklearn.naive_bayes.MultinomialNB.html'>this</a> ) then check how results might change.\n",
    "    <li>Find the best hyper parameter which will give the maximum <a href='https://www.appliedaicourse.com/course/applied-ai-course-online/lessons/receiver-operating-characteristic-curve-roc-curve-and-auc-1/'>AUC</a> value</li>\n",
    "    <li>For hyper parameter tuning using k-fold cross validation(use GridsearchCV or RandomsearchCV)/simple cross validation data (write for loop to iterate over hyper parameter values)</li>\n",
    "    <li>You need to plot the performance of model both on train data and cross validation data for each hyper parameter, like shown in the figure\n",
    "    <img src='https://i.imgur.com/hUv6aEy.jpg' width=300px><dd>-while plotting take log(alpha) on your X-axis so that it will be more readable</dd></li>\n",
    "    <li>Once after you found the best hyper parameter, you need to train your model with it, and find the AUC on test data and plot the ROC curve on both train and test.\n",
    "    <img src='https://imgur.com/q2P65L5.jpg' width=300px></li>\n",
    "    <li>Along with plotting ROC curve, you need to print the <a href='https://www.appliedaicourse.com/course/applied-ai-course-online/lessons/confusion-matrix-tpr-fpr-fnr-tnr-1/'>confusion matrix</a> with predicted and original labels of test data points\n",
    "        <img src='https://i.imgur.com/IdN5Ctv.png' width=300px><dd>-plot the confusion matrix in heatmaps, while plotting the confusion matrix go through the <a href='https://stackoverflow.com/questions/61748441/how-to-fix-the-values-displayed-in-a-confusion-matrix-in-exponential-form-to-nor'>link </a>\n",
    "</dd></li>\n",
    "        </ul>\n",
    "<li>find the top 20 features from either from feature <font color='red'>Set 1</font> or feature <font color='red'>Set 2</font> using values of `feature_log_prob_ ` parameter of `MultinomialNB` \n",
    "(https://scikit-learn.org/stable/modules/generated/sklearn.naive_bayes.MultinomialNB.html) and print <strong>BOTH</strong> positive as well as negative corresponding feature names. <dd> - go through the <a href='https://imgur.com/mWvE7gj'>link </a> </dd>\n",
    "    </li>\n",
    "    <li>You need to summarize the results at the end of the notebook, summarize it in the table format\n",
    "        <img src='http://i.imgur.com/YVpIGGE.jpg' width=400px>\n",
    "    </li>\n",
    "</ol>"
   ]
  },
  {
   "cell_type": "code",
   "execution_count": null,
   "metadata": {
    "id": "chpSjDaXm9KG"
   },
   "outputs": [],
   "source": []
  },
  {
   "cell_type": "markdown",
   "metadata": {
    "id": "inzYCIaib3c3"
   },
   "source": [
    "<h1>2. Naive Bayes </h1>"
   ]
  },
  {
   "cell_type": "markdown",
   "metadata": {
    "id": "FYqCIxzFb3c5"
   },
   "source": [
    "## 1.1 Loading Data"
   ]
  },
  {
   "cell_type": "code",
   "execution_count": 28,
   "metadata": {
    "id": "dA1jknyqb3c_"
   },
   "outputs": [
    {
     "data": {
      "text/html": [
       "<div>\n",
       "<style scoped>\n",
       "    .dataframe tbody tr th:only-of-type {\n",
       "        vertical-align: middle;\n",
       "    }\n",
       "\n",
       "    .dataframe tbody tr th {\n",
       "        vertical-align: top;\n",
       "    }\n",
       "\n",
       "    .dataframe thead th {\n",
       "        text-align: right;\n",
       "    }\n",
       "</style>\n",
       "<table border=\"1\" class=\"dataframe\">\n",
       "  <thead>\n",
       "    <tr style=\"text-align: right;\">\n",
       "      <th></th>\n",
       "      <th>school_state</th>\n",
       "      <th>teacher_prefix</th>\n",
       "      <th>project_grade_category</th>\n",
       "      <th>teacher_number_of_previously_posted_projects</th>\n",
       "      <th>project_is_approved</th>\n",
       "      <th>clean_categories</th>\n",
       "      <th>clean_subcategories</th>\n",
       "      <th>essay</th>\n",
       "      <th>price</th>\n",
       "    </tr>\n",
       "  </thead>\n",
       "  <tbody>\n",
       "    <tr>\n",
       "      <th>0</th>\n",
       "      <td>ca</td>\n",
       "      <td>mrs</td>\n",
       "      <td>grades_prek_2</td>\n",
       "      <td>53</td>\n",
       "      <td>1</td>\n",
       "      <td>math_science</td>\n",
       "      <td>appliedsciences health_lifescience</td>\n",
       "      <td>i fortunate enough use fairy tale stem kits cl...</td>\n",
       "      <td>725.05</td>\n",
       "    </tr>\n",
       "    <tr>\n",
       "      <th>1</th>\n",
       "      <td>ut</td>\n",
       "      <td>ms</td>\n",
       "      <td>grades_3_5</td>\n",
       "      <td>4</td>\n",
       "      <td>1</td>\n",
       "      <td>specialneeds</td>\n",
       "      <td>specialneeds</td>\n",
       "      <td>imagine 8 9 years old you third grade classroo...</td>\n",
       "      <td>213.03</td>\n",
       "    </tr>\n",
       "    <tr>\n",
       "      <th>2</th>\n",
       "      <td>ca</td>\n",
       "      <td>mrs</td>\n",
       "      <td>grades_prek_2</td>\n",
       "      <td>10</td>\n",
       "      <td>1</td>\n",
       "      <td>literacy_language</td>\n",
       "      <td>literacy</td>\n",
       "      <td>having class 24 students comes diverse learner...</td>\n",
       "      <td>329.00</td>\n",
       "    </tr>\n",
       "    <tr>\n",
       "      <th>3</th>\n",
       "      <td>ga</td>\n",
       "      <td>mrs</td>\n",
       "      <td>grades_prek_2</td>\n",
       "      <td>2</td>\n",
       "      <td>1</td>\n",
       "      <td>appliedlearning</td>\n",
       "      <td>earlydevelopment</td>\n",
       "      <td>i recently read article giving students choice...</td>\n",
       "      <td>481.04</td>\n",
       "    </tr>\n",
       "    <tr>\n",
       "      <th>4</th>\n",
       "      <td>wa</td>\n",
       "      <td>mrs</td>\n",
       "      <td>grades_3_5</td>\n",
       "      <td>2</td>\n",
       "      <td>1</td>\n",
       "      <td>literacy_language</td>\n",
       "      <td>literacy</td>\n",
       "      <td>my students crave challenge eat obstacles brea...</td>\n",
       "      <td>17.74</td>\n",
       "    </tr>\n",
       "  </tbody>\n",
       "</table>\n",
       "</div>"
      ],
      "text/plain": [
       "  school_state teacher_prefix project_grade_category  \\\n",
       "0           ca            mrs          grades_prek_2   \n",
       "1           ut             ms             grades_3_5   \n",
       "2           ca            mrs          grades_prek_2   \n",
       "3           ga            mrs          grades_prek_2   \n",
       "4           wa            mrs             grades_3_5   \n",
       "\n",
       "   teacher_number_of_previously_posted_projects  project_is_approved  \\\n",
       "0                                            53                    1   \n",
       "1                                             4                    1   \n",
       "2                                            10                    1   \n",
       "3                                             2                    1   \n",
       "4                                             2                    1   \n",
       "\n",
       "    clean_categories                 clean_subcategories  \\\n",
       "0       math_science  appliedsciences health_lifescience   \n",
       "1       specialneeds                        specialneeds   \n",
       "2  literacy_language                            literacy   \n",
       "3    appliedlearning                    earlydevelopment   \n",
       "4  literacy_language                            literacy   \n",
       "\n",
       "                                               essay   price  \n",
       "0  i fortunate enough use fairy tale stem kits cl...  725.05  \n",
       "1  imagine 8 9 years old you third grade classroo...  213.03  \n",
       "2  having class 24 students comes diverse learner...  329.00  \n",
       "3  i recently read article giving students choice...  481.04  \n",
       "4  my students crave challenge eat obstacles brea...   17.74  "
      ]
     },
     "execution_count": 28,
     "metadata": {},
     "output_type": "execute_result"
    }
   ],
   "source": [
    "#make sure you are loading atleast 50k datapoints\n",
    "#you can work with features of preprocessed_data.csv for the assignment.\n",
    "# If you want to add more features, you can add. (This is purely optional, not mandatory)\n",
    "\n",
    "%matplotlib inline\n",
    "import warnings\n",
    "warnings.filterwarnings(\"ignore\")\n",
    "%config IPCompleter.greedy=True\n",
    "\n",
    "import pandas as pd\n",
    "import numpy as np\n",
    "import nltk\n",
    "import matplotlib.pyplot as plt\n",
    "import seaborn as sns\n",
    "from sklearn.feature_extraction.text import TfidfVectorizer\n",
    "from sklearn.feature_extraction.text import CountVectorizer\n",
    "from sklearn.metrics import confusion_matrix\n",
    "from sklearn import metrics\n",
    "from sklearn.metrics import roc_curve, auc\n",
    "\n",
    "import re\n",
    "# Tutorial about Python regular expressions: https://pymotw.com/2/re/\n",
    "\n",
    "import pickle\n",
    "from tqdm import tqdm\n",
    "import os\n",
    "\n",
    "#from plotly import plotly\n",
    "#import plotly.offline as offline\n",
    "#import plotly.graph_objs as go\n",
    "#offline.init_notebook_mode()\n",
    "from collections import Counter\n",
    "data = pd.read_csv('preprocessed_data.csv',nrows=50000)\n",
    "data.shape\n",
    "data.head(5)"
   ]
  },
  {
   "cell_type": "code",
   "execution_count": 29,
   "metadata": {},
   "outputs": [
    {
     "data": {
      "text/html": [
       "<div>\n",
       "<style scoped>\n",
       "    .dataframe tbody tr th:only-of-type {\n",
       "        vertical-align: middle;\n",
       "    }\n",
       "\n",
       "    .dataframe tbody tr th {\n",
       "        vertical-align: top;\n",
       "    }\n",
       "\n",
       "    .dataframe thead th {\n",
       "        text-align: right;\n",
       "    }\n",
       "</style>\n",
       "<table border=\"1\" class=\"dataframe\">\n",
       "  <thead>\n",
       "    <tr style=\"text-align: right;\">\n",
       "      <th></th>\n",
       "      <th>school_state</th>\n",
       "      <th>teacher_prefix</th>\n",
       "      <th>project_grade_category</th>\n",
       "      <th>teacher_number_of_previously_posted_projects</th>\n",
       "      <th>clean_categories</th>\n",
       "      <th>clean_subcategories</th>\n",
       "      <th>essay</th>\n",
       "      <th>price</th>\n",
       "    </tr>\n",
       "  </thead>\n",
       "  <tbody>\n",
       "    <tr>\n",
       "      <th>0</th>\n",
       "      <td>ca</td>\n",
       "      <td>mrs</td>\n",
       "      <td>grades_prek_2</td>\n",
       "      <td>53</td>\n",
       "      <td>math_science</td>\n",
       "      <td>appliedsciences health_lifescience</td>\n",
       "      <td>i fortunate enough use fairy tale stem kits cl...</td>\n",
       "      <td>725.05</td>\n",
       "    </tr>\n",
       "  </tbody>\n",
       "</table>\n",
       "</div>"
      ],
      "text/plain": [
       "  school_state teacher_prefix project_grade_category  \\\n",
       "0           ca            mrs          grades_prek_2   \n",
       "\n",
       "   teacher_number_of_previously_posted_projects clean_categories  \\\n",
       "0                                            53     math_science   \n",
       "\n",
       "                  clean_subcategories  \\\n",
       "0  appliedsciences health_lifescience   \n",
       "\n",
       "                                               essay   price  \n",
       "0  i fortunate enough use fairy tale stem kits cl...  725.05  "
      ]
     },
     "execution_count": 29,
     "metadata": {},
     "output_type": "execute_result"
    }
   ],
   "source": [
    "y = data['project_is_approved']\n",
    "X = data.drop(['project_is_approved'], axis = 1)\n",
    "X.head(1)"
   ]
  },
  {
   "cell_type": "markdown",
   "metadata": {
    "id": "WtVV13Fyb3dH"
   },
   "source": [
    "<h2>1.2 Splitting data into Train and cross validation(or test): Stratified Sampling</h2>"
   ]
  },
  {
   "cell_type": "code",
   "execution_count": 3,
   "metadata": {},
   "outputs": [],
   "source": [
    "# write your code in following steps for task 1\n",
    "# 1. Split your data.\n",
    "# 2. Perform Bag of Words Vectorization of text data.\n",
    "# 3. Perform tfidf vectorization of text data.\n",
    "# 4. perform one-hot encoding of categorical features.\n",
    "# 5. perform normalization of numerical features\n",
    "# 6. For set 1 stack up all the features using hstack()\n",
    "# 7. For set 2 stack up all the features using hstack()\n",
    "# 8. Perform hyperparameter tuning and represent the training and cross-validation AUC scores for different 'alpha' values, using a 2D line plot.\n",
    "# 9. Find the best hyperparameter 'alpha' and fit the model. Plot ROC-AUC curve(by obtaining the probabilities using 'predict proba' method)\n",
    "# 10. Plot confusion matrix based on the best threshold value\n",
    "# 11. Either for the model in set 1 or in set 2, print the top 20 features(you have to print the names, not the indexes) associated with the positive and negative classes each.\n",
    "# 12. Summarize your observations and compare both the models(ie., from set 1 and set 2) in terms of optimal hyperparameter value, train AUC and test AUC scores. \n",
    "# 13. You can use Prettytable or any other tabular format for comparison.\n",
    "\n",
    "\n",
    "# please write all the code with proper documentation, and proper titles for each subsection\n",
    "# go through documentations and blogs before you start coding\n",
    "# first figure out what to do, and then think about how to do.\n",
    "# reading and understanding error messages will be very much helpfull in debugging your code\n",
    "# when you plot any graph make sure you use \n",
    "    # a. Title, that describes your plot, this will be very helpful to the reader\n",
    "    # b. Legends if needed\n",
    "    # c. X-axis label\n",
    "    # d. Y-axis label\n",
    "    "
   ]
  },
  {
   "cell_type": "code",
   "execution_count": 4,
   "metadata": {
    "id": "i-PyprDNb3dI"
   },
   "outputs": [],
   "source": [
    "# Split the dataset \n",
    "# 1) If you want to apply simple cross-validation, split the dataset into 3 parts (ie., train, CV and test sets)\n",
    "# 2) If you want to apply K-fold CV (or) GridSearch Cross Validation (or) Randomized Search Cross Validation, just split the dataset into 2 parts (ie., train and test sets)\n",
    "\n"
   ]
  },
  {
   "cell_type": "code",
   "execution_count": 30,
   "metadata": {},
   "outputs": [],
   "source": [
    "# train test split\n",
    "from sklearn.model_selection import train_test_split\n",
    "X_train, X_test, y_train, y_test = train_test_split(X, y, test_size = 0.33, stratify = y)\n",
    "X_train, X_cv, y_train, y_cv = train_test_split(X_train, y_train, test_size = 0.33, stratify = y_train)"
   ]
  },
  {
   "cell_type": "markdown",
   "metadata": {
    "id": "EnZwVNULb3dO"
   },
   "source": [
    "<h2>1.3 Make Data Model Ready: encoding essay, and project_title</h2>"
   ]
  },
  {
   "cell_type": "code",
   "execution_count": 31,
   "metadata": {},
   "outputs": [
    {
     "name": "stdout",
     "output_type": "stream",
     "text": [
      "After vectorizations\n",
      "(22445, 5000) (22445,)\n",
      "(11055, 5000) (11055,)\n",
      "(16500, 5000) (16500,)\n"
     ]
    }
   ],
   "source": [
    "# Apply Bag of Words (BOW) vectorization on 'Preprocessed_Essay' \n",
    "# Apply Bag of Words (BOW) vectorization on 'Preprocessed_Title' (Optional)\n",
    "vecorizer = CountVectorizer(min_df=10,ngram_range=(1,4), max_features=5000)\n",
    "vecorizer.fit(X_train['essay'].values)\n",
    "X_train_essay_bow = vecorizer.transform(X_train['essay'].values)\n",
    "X_cv_essay_bow = vecorizer.transform(X_cv['essay'].values)\n",
    "X_test_essay_bow = vecorizer.transform(X_test['essay'].values)\n",
    "\n",
    "print(\"After vectorizations\")\n",
    "print(X_train_essay_bow.shape, y_train.shape)\n",
    "print(X_cv_essay_bow.shape, y_cv.shape)\n",
    "print(X_test_essay_bow.shape, y_test.shape)"
   ]
  },
  {
   "cell_type": "code",
   "execution_count": 32,
   "metadata": {},
   "outputs": [
    {
     "name": "stdout",
     "output_type": "stream",
     "text": [
      "After vectorizations\n",
      "(22445, 5000) (22445,)\n",
      "(11055, 5000) (11055,)\n",
      "(16500, 5000) (16500,)\n"
     ]
    }
   ],
   "source": [
    "# Apply TF-IDF vectorization on 'Preprocessed_Essay' \n",
    "# Apply TF-IDF vectorization on 'Preprocessed_Title' (Optional)\n",
    "vecorizer_essay_tfidf = TfidfVectorizer(min_df=10,ngram_range=(1,4), max_features=5000)\n",
    "vecorizer_essay_tfidf.fit(X_train['essay'].values)\n",
    "X_train_essay_tfidf = vecorizer_essay_tfidf.transform(X_train['essay'].values)\n",
    "X_cv_essay_tfidf = vecorizer_essay_tfidf.transform(X_cv['essay'].values)\n",
    "X_test_essay_tfidf = vecorizer_essay_tfidf.transform(X_test['essay'].values)\n",
    "\n",
    "print(\"After vectorizations\")\n",
    "print(X_train_essay_tfidf.shape, y_train.shape)\n",
    "print(X_cv_essay_tfidf.shape, y_cv.shape)\n",
    "print(X_test_essay_tfidf.shape, y_test.shape)"
   ]
  },
  {
   "cell_type": "markdown",
   "metadata": {
    "id": "bGy86kgHb3dX"
   },
   "source": [
    "<h2>1.4 Make Data Model Ready: encoding numerical, categorical features</h2>"
   ]
  },
  {
   "cell_type": "code",
   "execution_count": 8,
   "metadata": {
    "id": "EfXkofX1b3da"
   },
   "outputs": [],
   "source": [
    "# Apply One-Hot Encoding on the categorical features either using OneHotEncoder() (or) CountVectorizer(binary=True)\n",
    "#Categorical features => \n",
    "#- teacher_prefix\n",
    "#- project_grade_category\n",
    "#- school_state\n",
    "#- clean_categories\n",
    "#- clean_subcategories"
   ]
  },
  {
   "cell_type": "code",
   "execution_count": 33,
   "metadata": {},
   "outputs": [],
   "source": [
    "#teacher_prefix\n",
    "vectorizer_prefix = CountVectorizer()\n",
    "vectorizer_prefix.fit(X_train['teacher_prefix'].values)\n",
    "X_train_teacher_prefix_ohe = vectorizer_prefix.transform(X_train['teacher_prefix'].values)\n",
    "X_cv_teacher_prefix_ohe = vectorizer_prefix.transform(X_cv['teacher_prefix'].values)\n",
    "X_test_teacher_prefix_ohe = vectorizer_prefix.transform(X_test['teacher_prefix'].values)\n",
    "\n",
    "#project_grade_category\n",
    "vectorizer_grade = CountVectorizer()\n",
    "vectorizer_grade.fit(X_train['project_grade_category'].values)\n",
    "X_train_grade_ohe = vectorizer_grade.transform(X_train['project_grade_category'].values)\n",
    "X_cv_grade_ohe = vectorizer_grade.transform(X_cv['project_grade_category'].values)\n",
    "X_test_grade_ohe = vectorizer_grade.transform(X_test['project_grade_category'].values)\n",
    "\n",
    "#school_state\n",
    "vectorizer_state = CountVectorizer()\n",
    "vectorizer_state.fit(X_train['school_state'].values)\n",
    "X_train_school_state_ohe = vectorizer_state.transform(X_train['school_state'].values)\n",
    "X_cv_school_state_ohe = vectorizer_state.transform(X_cv['school_state'].values)\n",
    "X_test_school_state_ohe = vectorizer_state.transform(X_test['school_state'].values)\n",
    "\n",
    "#clean_categories\n",
    "vectorizer_cat = CountVectorizer()\n",
    "vectorizer_cat.fit(X_train['clean_categories'].values)\n",
    "X_train_clean_categories_ohe = vectorizer_cat.transform(X_train['clean_categories'].values)\n",
    "X_cv_clean_categories_ohe = vectorizer_cat.transform(X_cv['clean_categories'].values)\n",
    "X_test_clean_categories_ohe = vectorizer_cat.transform(X_test['clean_categories'].values)\n",
    "\n",
    "#clean_subcategories\n",
    "vectorizer_sub_cat = CountVectorizer()\n",
    "vectorizer_sub_cat.fit(X_train['clean_subcategories'].values)\n",
    "X_train_clean_subcategories_ohe = vectorizer_sub_cat.transform(X_train['clean_subcategories'].values)\n",
    "X_cv_clean_subcategories_ohe = vectorizer_sub_cat.transform(X_cv['clean_subcategories'].values)\n",
    "X_test_clean_subcategories_ohe = vectorizer_sub_cat.transform(X_test['clean_subcategories'].values)"
   ]
  },
  {
   "cell_type": "code",
   "execution_count": 10,
   "metadata": {},
   "outputs": [],
   "source": [
    "# Apply Normalization on the numerical features using Normalizer().\n",
    "# numerical features\n",
    "#- price\n",
    "#- teacher_number_of_previously_posted_projects"
   ]
  },
  {
   "cell_type": "code",
   "execution_count": 34,
   "metadata": {},
   "outputs": [],
   "source": [
    "#price\n",
    "from sklearn.preprocessing import Normalizer\n",
    "normalizer = Normalizer()\n",
    "X_train_price_norm = normalizer.fit_transform(X_train['price'].values.reshape(1,-1))\n",
    "X_cv_price_norm = normalizer.fit_transform(X_cv['price'].values.reshape(1,-1))\n",
    "X_test_price_norm = normalizer.fit_transform(X_test['price'].values.reshape(1,-1))\n",
    "\n",
    "X_train_price_norm = X_train_price_norm.reshape(-1,1)\n",
    "X_cv_price_norm = X_cv_price_norm.reshape(-1,1)\n",
    "X_test_price_norm = X_test_price_norm.reshape(-1,1)\n",
    "\n",
    "#teacher_number_of_previously_posted_projects\n",
    "normalizer = Normalizer()\n",
    "X_train_prev_posted_proj_norm = normalizer.fit_transform(X_train['teacher_number_of_previously_posted_projects'].values.reshape(1,-1))\n",
    "X_cv_prev_posted_proj_norm = normalizer.fit_transform(X_cv['teacher_number_of_previously_posted_projects'].values.reshape(1,-1))\n",
    "X_test_prev_posted_proj_norm = normalizer.fit_transform(X_test['teacher_number_of_previously_posted_projects'].values.reshape(1,-1))\n",
    "\n",
    "X_train_prev_posted_proj_norm = X_train_prev_posted_proj_norm.reshape(-1,1)\n",
    "X_cv_prev_posted_proj_norm = X_cv_prev_posted_proj_norm.reshape(-1,1)\n",
    "X_test_prev_posted_proj_norm = X_test_prev_posted_proj_norm.reshape(-1,1)"
   ]
  },
  {
   "cell_type": "markdown",
   "metadata": {
    "id": "yYHPYadYb3dh"
   },
   "source": [
    "<h2>1.5 Appling NB on different kind of featurization as mentioned in the instructions</h2>\n",
    "\n",
    "<br>Apply NB on different kind of featurization as mentioned in the instructions\n",
    "<br> For Every model that you work on make sure you do the step 2 and step 3 of instrucations"
   ]
  },
  {
   "cell_type": "markdown",
   "metadata": {
    "id": "DNwqilFxb3di"
   },
   "source": [
    "#### Set 1"
   ]
  },
  {
   "cell_type": "code",
   "execution_count": 12,
   "metadata": {},
   "outputs": [
    {
     "name": "stdout",
     "output_type": "stream",
     "text": [
      "Final Data matrix\n",
      "(22445, 5097) (22445,)\n",
      "(11055, 5097) (11055,)\n",
      "(16500, 5097) (16500,)\n"
     ]
    }
   ],
   "source": [
    "# Perform Hyperparameter Tuning.\n",
    "# Plot the training and the CV AUC scores, for different values of 'alpha', using a 2D line plot\n",
    "#Concatenating all features\n",
    "# merge two sparse matrices: https://stackoverflow.com/a/19710648/4084039\n",
    "from scipy.sparse import hstack\n",
    "\n",
    "X_tr = hstack((X_train_essay_bow, X_train_teacher_prefix_ohe, X_train_grade_ohe, X_train_school_state_ohe, X_train_clean_categories_ohe,X_train_clean_subcategories_ohe,X_train_price_norm,X_train_prev_posted_proj_norm)).tocsr()\n",
    "X_cr = hstack((X_cv_essay_bow, X_cv_teacher_prefix_ohe, X_cv_grade_ohe, X_cv_school_state_ohe, X_cv_clean_categories_ohe,X_cv_clean_subcategories_ohe,X_cv_price_norm,X_cv_prev_posted_proj_norm)).tocsr()\n",
    "X_te = hstack((X_test_essay_bow, X_test_teacher_prefix_ohe, X_test_grade_ohe, X_test_school_state_ohe, X_test_clean_categories_ohe,X_test_clean_subcategories_ohe,X_test_price_norm,X_test_prev_posted_proj_norm)).tocsr()\n",
    "\n",
    "print(\"Final Data matrix\")\n",
    "print(X_tr.shape, y_train.shape)\n",
    "print(X_cr.shape, y_cv.shape)\n",
    "print(X_te.shape, y_test.shape)\n"
   ]
  },
  {
   "cell_type": "code",
   "execution_count": 13,
   "metadata": {},
   "outputs": [],
   "source": [
    "def batchPredict(clf,data):\n",
    "    y_data_predict = []\n",
    "    datapoints_in_mulptiple_of_1000 = data.shape[0] - data.shape[0]%1000\n",
    "\n",
    "    for i in range(0,datapoints_in_mulptiple_of_1000,1000):\n",
    "        y_data_predict.extend(clf.predict_proba(data[i:i+1000])[:,1])\n",
    "    if data.shape[0]%1000 != 0:\n",
    "        y_data_predict.extend(clf.predict_proba(data[datapoints_in_mulptiple_of_1000:])[:,1])\n",
    "    \n",
    "    return y_data_predict"
   ]
  },
  {
   "cell_type": "code",
   "execution_count": 14,
   "metadata": {},
   "outputs": [
    {
     "name": "stderr",
     "output_type": "stream",
     "text": [
      "100%|██████████████████████████████████████████████████████████████████████████████████| 20/20 [00:04<00:00,  4.89it/s]\n"
     ]
    },
    {
     "name": "stdout",
     "output_type": "stream",
     "text": [
      "(22445, 5097) (22445,)\n",
      "(11055, 5097) (11055,)\n",
      "(16500, 5097) (16500,)\n"
     ]
    },
    {
     "data": {
      "image/png": "[encoded data removed]",
      "text/plain": [
       "<Figure size 432x288 with 1 Axes>"
      ]
     },
     "metadata": {},
     "output_type": "display_data"
    }
   ],
   "source": [
    "import matplotlib.pyplot as plt\n",
    "from sklearn.naive_bayes import MultinomialNB\n",
    "from sklearn.metrics import roc_auc_score\n",
    "import math\n",
    "train_auc = []\n",
    "cv_auc = []\n",
    "alpha = [0.00001, 0.00005, 0.0001, 0.0005, 0.001, 0.005, 0.01, 0.05, 0.1, 0.5, 1, 5, 10, 50, 100, 500, 1000, 2500, 5000, 10000]\n",
    "log_alpha = []\n",
    "\n",
    "for i in tqdm(alpha):\n",
    "    nb = MultinomialNB(alpha = i)\n",
    "    nb.fit(X_tr,y_train)\n",
    "    y_train_pred = batchPredict(nb,X_tr)\n",
    "    y_cv_pred = batchPredict(nb,X_cr)\n",
    "    train_auc.append(roc_auc_score(y_train,y_train_pred))\n",
    "    cv_auc.append(roc_auc_score(y_cv,y_cv_pred))\n",
    "    \n",
    "for j in alpha:\n",
    "    log_alpha.append(np.log10(j))\n",
    "print(X_tr.shape, y_train.shape)\n",
    "print(X_cr.shape, y_cv.shape)\n",
    "print(X_te.shape, y_test.shape)\n",
    "\n",
    "plt.plot(log_alpha, train_auc, label='Train AUC')\n",
    "plt.plot(log_alpha, cv_auc, label='CV AUC')\n",
    "\n",
    "plt.scatter(log_alpha, train_auc, label='Train AUC points')\n",
    "plt.scatter(log_alpha, cv_auc, label='CV AUC points')\n",
    "\n",
    "plt.legend()\n",
    "plt.xlabel(\"log(Alpha): hyperparameter\")\n",
    "plt.ylabel(\"AUC\")\n",
    "plt.title(\"Hyper parameter Vs AUC plot\")\n",
    "plt.grid()\n",
    "plt.show()\n"
   ]
  },
  {
   "cell_type": "code",
   "execution_count": 15,
   "metadata": {},
   "outputs": [],
   "source": [
    "# Obtain the optimal value for 'alpha' and using the obtained optimal 'alpha' value, fit a multinomial naive bayes model, on the train data,\n",
    "# Note: If you have split the datase into 3 parts (ie., train, cv and test sets) in the beginning, then the training datafor this final model would be (train set + cv set)\n",
    "# Make class label and probability predictions on the train and test data.\n",
    "\n",
    "#from above graph we can see that best AUC for CV is 0.68 and for log(0) distance between train and test AUC is less. Hence best\n",
    "#alpha will be 1\n",
    "best_alpha_bow = 1"
   ]
  },
  {
   "cell_type": "code",
   "execution_count": 19,
   "metadata": {},
   "outputs": [
    {
     "name": "stdout",
     "output_type": "stream",
     "text": [
      "(22445, 5097)\n",
      "(11055, 5097)\n",
      "(22445,)\n",
      "(16500,)\n"
     ]
    }
   ],
   "source": [
    "from sklearn.metrics import roc_curve, auc\n",
    "from scipy.sparse import vstack\n",
    "#combine X_tr and X_cr \n",
    "print(X_tr.shape)\n",
    "print(X_cr.shape)\n",
    "print(y_train.shape)\n",
    "print(y_test.shape)\n",
    "X_tr = vstack((X_tr, X_cr)).tocsr()\n",
    "#print(X_tr.shape)\n",
    "#combine y_train and y_test \n",
    "y_train = pd.concat([y_train, y_cv], axis = 0)\n",
    "#print(y_train.shape)\n",
    "#Fit model with best alpha\n",
    "nb = MultinomialNB(alpha = best_alpha_bow)\n",
    "nb.fit(X_tr,y_train)\n",
    "y_train_pred = batchPredict(nb,X_tr)\n",
    "y_test_pred = batchPredict(nb,X_te)"
   ]
  },
  {
   "cell_type": "code",
   "execution_count": 20,
   "metadata": {},
   "outputs": [
    {
     "data": {
      "image/png": "[encoded data removed]",
      "text/plain": [
       "<Figure size 432x288 with 1 Axes>"
      ]
     },
     "metadata": {},
     "output_type": "display_data"
    }
   ],
   "source": [
    "# Plot the ROC-AUC curves using the probability predictions made on train and test data.\n",
    "train_fpr, train_tpr, tr_thresholds = roc_curve(y_train, y_train_pred)\n",
    "test_fpr, test_tpr, te_thresholds = roc_curve(y_test, y_test_pred)\n",
    "\n",
    "auc_set1_train = auc(train_fpr, train_tpr)\n",
    "auc_set1_test = auc(test_fpr, test_tpr)\n",
    "\n",
    "plt.plot(train_fpr, train_tpr, label=\"Train AUC =\"+str(auc_set1_train))\n",
    "plt.plot(test_fpr, test_tpr, label=\"Test AUC =\"+str(auc_set1_test))\n",
    "plt.legend()\n",
    "plt.xlabel(\"FPR\")\n",
    "plt.ylabel(\"TPR\")\n",
    "plt.title(\"AUC PLOTS\")\n",
    "plt.grid()\n",
    "plt.show()"
   ]
  },
  {
   "cell_type": "code",
   "execution_count": 23,
   "metadata": {},
   "outputs": [],
   "source": [
    "# Pick the best threshold among the probability estimates, such that it has to yield maximum value for TPR*(1-FPR)\n",
    "# Plot the confusion matrices(each for train and test data) afer encoding the predicted class labels, on the basis of the best threshod probability estimate.\n",
    "def find_best_threshold(threshold, fpr, tpr):\n",
    "    t = threshold[np.argmax(tpr*(1-fpr))]\n",
    "    print(\"the maximum value of tpr*(1-fpr)\", max(tpr*(1-fpr)), \"for threshold\", np.round(t,3))\n",
    "    return t\n",
    "\n",
    "def predict_prob(proba, threshold):\n",
    "    predictions = []\n",
    "    \n",
    "    for i in proba:\n",
    "        if i >= threshold:\n",
    "            predictions.append(1)\n",
    "        else:\n",
    "            predictions.append(0)\n",
    "    return predictions"
   ]
  },
  {
   "cell_type": "code",
   "execution_count": 25,
   "metadata": {},
   "outputs": [
    {
     "name": "stdout",
     "output_type": "stream",
     "text": [
      "the maximum value of tpr*(1-fpr) 0.46104817158517597 for threshold 0.868\n",
      "Train confusion matrix\n",
      "[[ 3782  1583]\n",
      " [ 9734 18401]]\n",
      "Test confusion matrix\n",
      "[[1727  915]\n",
      " [4977 8881]]\n"
     ]
    }
   ],
   "source": [
    "from sklearn.metrics import confusion_matrix\n",
    "best_t = find_best_threshold(tr_thresholds, train_fpr, train_tpr)\n",
    "print(\"Train confusion matrix\")\n",
    "print(confusion_matrix(y_train, predict_prob(y_train_pred, best_t)))\n",
    "print(\"Test confusion matrix\")\n",
    "print(confusion_matrix(y_test, predict_prob(y_test_pred, best_t)))"
   ]
  },
  {
   "cell_type": "markdown",
   "metadata": {},
   "source": [
    "#### Set 2"
   ]
  },
  {
   "cell_type": "code",
   "execution_count": 35,
   "metadata": {},
   "outputs": [
    {
     "name": "stdout",
     "output_type": "stream",
     "text": [
      "Final Data matrix\n",
      "(22445, 5101) (22445,)\n",
      "(11055, 5101) (11055,)\n",
      "(16500, 5101) (16500,)\n"
     ]
    }
   ],
   "source": [
    "# Perform Hyperparameter Tuning.\n",
    "# Plot the training and the CV AUC scores, for different values of 'alpha', using a 2D line plot\n",
    "from scipy.sparse import hstack\n",
    "\n",
    "X_tr = hstack((X_train_essay_tfidf, X_train_teacher_prefix_ohe, X_train_grade_ohe, X_train_school_state_ohe, X_train_clean_categories_ohe,X_train_clean_subcategories_ohe,X_train_price_norm,X_train_prev_posted_proj_norm)).tocsr()\n",
    "X_cr = hstack((X_cv_essay_tfidf, X_cv_teacher_prefix_ohe, X_cv_grade_ohe, X_cv_school_state_ohe, X_cv_clean_categories_ohe,X_cv_clean_subcategories_ohe,X_cv_price_norm,X_cv_prev_posted_proj_norm)).tocsr()\n",
    "X_te = hstack((X_test_essay_tfidf, X_test_teacher_prefix_ohe, X_test_grade_ohe, X_test_school_state_ohe, X_test_clean_categories_ohe,X_test_clean_subcategories_ohe,X_test_price_norm,X_test_prev_posted_proj_norm)).tocsr()\n",
    "\n",
    "print(\"Final Data matrix\")\n",
    "print(X_tr.shape, y_train.shape)\n",
    "print(X_cr.shape, y_cv.shape)\n",
    "print(X_te.shape, y_test.shape)\n"
   ]
  },
  {
   "cell_type": "code",
   "execution_count": 37,
   "metadata": {},
   "outputs": [
    {
     "name": "stderr",
     "output_type": "stream",
     "text": [
      "100%|██████████████████████████████████████████████████████████████████████████████████| 20/20 [00:04<00:00,  4.88it/s]\n"
     ]
    },
    {
     "data": {
      "image/png": "[encoded data removed]",
      "text/plain": [
       "<Figure size 432x288 with 1 Axes>"
      ]
     },
     "metadata": {},
     "output_type": "display_data"
    }
   ],
   "source": [
    "import matplotlib.pyplot as plt\n",
    "from sklearn.naive_bayes import MultinomialNB\n",
    "from sklearn.metrics import roc_auc_score\n",
    "import math\n",
    "train_auc = []\n",
    "cv_auc = []\n",
    "alpha = [0.00001, 0.00005, 0.0001, 0.0005, 0.001, 0.005, 0.01, 0.05, 0.1, 0.5, 1, 5, 10, 50, 100, 500, 1000, 2500, 5000, 10000]\n",
    "log_alpha = []\n",
    "\n",
    "for i in tqdm(alpha):\n",
    "    nb = MultinomialNB(alpha = i)\n",
    "    nb.fit(X_tr,y_train)\n",
    "    y_train_pred = batchPredict(nb,X_tr)\n",
    "    y_cv_pred = batchPredict(nb,X_cr)\n",
    "    train_auc.append(roc_auc_score(y_train,y_train_pred))\n",
    "    cv_auc.append(roc_auc_score(y_cv,y_cv_pred))\n",
    "    \n",
    "for j in alpha:\n",
    "    log_alpha.append(np.log10(j))\n",
    "    \n",
    "plt.plot(log_alpha, train_auc, label='Train AUC')\n",
    "plt.plot(log_alpha, cv_auc, label='CV AUC')\n",
    "\n",
    "plt.scatter(log_alpha, train_auc, label='Train AUC points')\n",
    "plt.scatter(log_alpha, cv_auc, label='CV AUC points')\n",
    "\n",
    "plt.legend()\n",
    "plt.xlabel(\"log(Alpha): hyperparameter\")\n",
    "plt.ylabel(\"AUC\")\n",
    "plt.title(\"Hyper parameter Vs AUC plot\")\n",
    "plt.grid()\n",
    "plt.show()"
   ]
  },
  {
   "cell_type": "code",
   "execution_count": 38,
   "metadata": {},
   "outputs": [],
   "source": [
    "# Obtain the optimal value for 'alpha' and using the obtained optimal 'alpha' value, fit a multinomial naive bayes model, on the train data,\n",
    "# Note: If you have split the datase into 3 parts (ie., train, cv and test sets) in the beginning, then the training datafor this final model would be (train set + cv set)\n",
    "# Make class label and probability predictions on the train and test data.\n",
    "\n",
    "#from above graph we can see that best AUC for CV is 0.67 and for log(-1.2) distance between train and test AUC is less. Hence best\n",
    "#alpha will be 0.063\n",
    "best_alpha_tfidf = 0.063"
   ]
  },
  {
   "cell_type": "code",
   "execution_count": 39,
   "metadata": {},
   "outputs": [],
   "source": [
    "from sklearn.metrics import roc_curve, auc\n",
    "from scipy.sparse import vstack\n",
    "#combine X_tr and X_cr \n",
    "X_tr = vstack((X_tr, X_cr)).tocsr()\n",
    "\n",
    "#combine y_train and y_test \n",
    "y_train = pd.concat([y_train, y_cv], axis = 0)\n",
    "\n",
    "#Fit model with best alpha\n",
    "nb = MultinomialNB(alpha = best_alpha_tfidf)\n",
    "nb.fit(X_tr,y_train)\n",
    "y_train_pred = batchPredict(nb,X_tr)\n",
    "y_test_pred = batchPredict(nb,X_te)"
   ]
  },
  {
   "cell_type": "code",
   "execution_count": 40,
   "metadata": {},
   "outputs": [
    {
     "data": {
      "image/png": "[encoded data removed]",
      "text/plain": [
       "<Figure size 432x288 with 1 Axes>"
      ]
     },
     "metadata": {},
     "output_type": "display_data"
    }
   ],
   "source": [
    "# Plot the ROC-AUC curves using the probability predictions made on train and test data.\n",
    "train_fpr, train_tpr, tr_thresholds = roc_curve(y_train, y_train_pred)\n",
    "test_fpr, test_tpr, te_thresholds = roc_curve(y_test, y_test_pred)\n",
    "\n",
    "auc_set2_train = auc(train_fpr, train_tpr)\n",
    "auc_set2_test = auc(test_fpr, test_tpr)\n",
    "\n",
    "plt.plot(train_fpr, train_tpr, label=\"Train AUC =\"+str(auc_set2_train))\n",
    "plt.plot(test_fpr, test_tpr, label=\"Test AUC =\"+str(auc_set2_test))\n",
    "plt.legend()\n",
    "plt.xlabel(\"FPR\")\n",
    "plt.ylabel(\"TPR\")\n",
    "plt.title(\"AUC PLOTS\")\n",
    "plt.grid()\n",
    "plt.show()"
   ]
  },
  {
   "cell_type": "code",
   "execution_count": 43,
   "metadata": {},
   "outputs": [
    {
     "name": "stdout",
     "output_type": "stream",
     "text": [
      "the maximum value of tpr*(1-fpr) 0.44086304035048696 for threshold 0.848\n",
      "Train confusion matrix\n",
      "[[ 3679  1686]\n",
      " [10047 18088]]\n",
      "Test confusion matrix\n",
      "[[1625 1017]\n",
      " [5156 8702]]\n"
     ]
    }
   ],
   "source": [
    "# Pick the best threshold among the probability estimates, such that it has to yield maximum value for TPR*(1-FPR)\n",
    "# Plot the confusion matrices(each for train and test data) afer encoding the predicted class labels, on the basis of the best threshod probability estimate.\n",
    "from sklearn.metrics import confusion_matrix\n",
    "best_t = find_best_threshold(tr_thresholds, train_fpr, train_tpr)\n",
    "print(\"Train confusion matrix\")\n",
    "print(confusion_matrix(y_train, predict_prob(y_train_pred, best_t)))\n",
    "print(\"Test confusion matrix\")\n",
    "print(confusion_matrix(y_test, predict_prob(y_test_pred, best_t)))"
   ]
  },
  {
   "cell_type": "code",
   "execution_count": 44,
   "metadata": {},
   "outputs": [],
   "source": [
    "# Either from set 1 (or) set 2, print the names of the top 20 features associated with the positive and negative classes each. (You have to print the names of the features, but not the indexes)\n",
    "#Top 20 features from set 2\n",
    "\n",
    "###############################################################################\n",
    "#Refered https://www.kaggle.com/nikhilparmar9/naive-bayes-donorschoose-dataset\n",
    "###############################################################################\n",
    "all_feature_names_tfidf = []\n",
    "for i in vecorizer_essay_tfidf.get_feature_names():\n",
    "    all_feature_names_tfidf.append(i)\n",
    "\n",
    "for i in vectorizer_prefix.get_feature_names():\n",
    "    all_feature_names_tfidf.append(i)\n",
    "\n",
    "for i in vectorizer_grade.get_feature_names():\n",
    "    all_feature_names_tfidf.append(i)\n",
    "\n",
    "for i in vectorizer_state.get_feature_names():\n",
    "    all_feature_names_tfidf.append(i)\n",
    "\n",
    "for i in vectorizer_cat.get_feature_names():\n",
    "    all_feature_names_tfidf.append(i)\n",
    "\n",
    "for i in vectorizer_sub_cat.get_feature_names():\n",
    "    all_feature_names_tfidf.append(i)\n",
    "\n",
    "all_feature_names_tfidf.append(\"price\")\n",
    "all_feature_names_tfidf.append(\"prev_proj\")\n"
   ]
  },
  {
   "cell_type": "code",
   "execution_count": 45,
   "metadata": {},
   "outputs": [
    {
     "name": "stdout",
     "output_type": "stream",
     "text": [
      "5101\n",
      "(33500, 5101)\n",
      "5101\n"
     ]
    }
   ],
   "source": [
    "print(len(all_feature_names_tfidf))\n",
    "totalFeatureNamesTfidf=len(all_feature_names_tfidf)\n",
    "print(X_tr.shape)\n",
    "print(totalFeatureNamesTfidf)"
   ]
  },
  {
   "cell_type": "code",
   "execution_count": 46,
   "metadata": {},
   "outputs": [
    {
     "data": {
      "text/plain": [
       "MultinomialNB(alpha=0.5, class_prior=[0.5, 0.5])"
      ]
     },
     "execution_count": 46,
     "metadata": {},
     "output_type": "execute_result"
    }
   ],
   "source": [
    "nb_tfidf=MultinomialNB(alpha=0.5,class_prior=[0.5,0.5])\n",
    "nb_tfidf.fit(X_tr,y_train)\n"
   ]
  },
  {
   "cell_type": "code",
   "execution_count": 47,
   "metadata": {},
   "outputs": [
    {
     "name": "stdout",
     "output_type": "stream",
     "text": [
      "TOP 10 Negative features - TFIDF\n"
     ]
    },
    {
     "data": {
      "text/html": [
       "<div>\n",
       "<style scoped>\n",
       "    .dataframe tbody tr th:only-of-type {\n",
       "        vertical-align: middle;\n",
       "    }\n",
       "\n",
       "    .dataframe tbody tr th {\n",
       "        vertical-align: top;\n",
       "    }\n",
       "\n",
       "    .dataframe thead th {\n",
       "        text-align: right;\n",
       "    }\n",
       "</style>\n",
       "<table border=\"1\" class=\"dataframe\">\n",
       "  <thead>\n",
       "    <tr style=\"text-align: right;\">\n",
       "      <th></th>\n",
       "      <th>feature_prob_estimates</th>\n",
       "      <th>feature_names</th>\n",
       "    </tr>\n",
       "  </thead>\n",
       "  <tbody>\n",
       "    <tr>\n",
       "      <th>5002</th>\n",
       "      <td>-3.481420</td>\n",
       "      <td>mrs</td>\n",
       "    </tr>\n",
       "    <tr>\n",
       "      <th>5064</th>\n",
       "      <td>-3.648641</td>\n",
       "      <td>literacy_language</td>\n",
       "    </tr>\n",
       "    <tr>\n",
       "      <th>5008</th>\n",
       "      <td>-3.695666</td>\n",
       "      <td>grades_prek_2</td>\n",
       "    </tr>\n",
       "    <tr>\n",
       "      <th>5065</th>\n",
       "      <td>-3.768674</td>\n",
       "      <td>math_science</td>\n",
       "    </tr>\n",
       "    <tr>\n",
       "      <th>5003</th>\n",
       "      <td>-3.807534</td>\n",
       "      <td>ms</td>\n",
       "    </tr>\n",
       "    <tr>\n",
       "      <th>5005</th>\n",
       "      <td>-3.916938</td>\n",
       "      <td>grades_3_5</td>\n",
       "    </tr>\n",
       "    <tr>\n",
       "      <th>5086</th>\n",
       "      <td>-4.120510</td>\n",
       "      <td>literacy</td>\n",
       "    </tr>\n",
       "    <tr>\n",
       "      <th>5088</th>\n",
       "      <td>-4.186554</td>\n",
       "      <td>mathematics</td>\n",
       "    </tr>\n",
       "    <tr>\n",
       "      <th>5087</th>\n",
       "      <td>-4.436492</td>\n",
       "      <td>literature_writing</td>\n",
       "    </tr>\n",
       "    <tr>\n",
       "      <th>5062</th>\n",
       "      <td>-4.563308</td>\n",
       "      <td>health_sports</td>\n",
       "    </tr>\n",
       "  </tbody>\n",
       "</table>\n",
       "</div>"
      ],
      "text/plain": [
       "      feature_prob_estimates       feature_names\n",
       "5002               -3.481420                 mrs\n",
       "5064               -3.648641   literacy_language\n",
       "5008               -3.695666       grades_prek_2\n",
       "5065               -3.768674        math_science\n",
       "5003               -3.807534                  ms\n",
       "5005               -3.916938          grades_3_5\n",
       "5086               -4.120510            literacy\n",
       "5088               -4.186554         mathematics\n",
       "5087               -4.436492  literature_writing\n",
       "5062               -4.563308       health_sports"
      ]
     },
     "execution_count": 47,
     "metadata": {},
     "output_type": "execute_result"
    }
   ],
   "source": [
    "#Negative features\n",
    "tfidf_features_probs_neg = {}\n",
    "for a in range(totalFeatureNamesTfidf) :\n",
    "    tfidf_features_probs_neg[a] = nb_tfidf.feature_log_prob_[0,a]\n",
    "    \n",
    "final_tfidf_features_neg = pd.DataFrame({'feature_prob_estimates' : list(tfidf_features_probs_neg.values()),\n",
    "'feature_names' : list(all_feature_names_tfidf)})\n",
    "\n",
    "a = final_tfidf_features_neg.sort_values(by = ['feature_prob_estimates'], ascending = False)\n",
    "print(\"TOP 10 Negative features - TFIDF\")\n",
    "a.head(10)"
   ]
  },
  {
   "cell_type": "code",
   "execution_count": 48,
   "metadata": {},
   "outputs": [
    {
     "name": "stdout",
     "output_type": "stream",
     "text": [
      "TOP 10 Positive features - TFIDF\n"
     ]
    },
    {
     "data": {
      "text/html": [
       "<div>\n",
       "<style scoped>\n",
       "    .dataframe tbody tr th:only-of-type {\n",
       "        vertical-align: middle;\n",
       "    }\n",
       "\n",
       "    .dataframe tbody tr th {\n",
       "        vertical-align: top;\n",
       "    }\n",
       "\n",
       "    .dataframe thead th {\n",
       "        text-align: right;\n",
       "    }\n",
       "</style>\n",
       "<table border=\"1\" class=\"dataframe\">\n",
       "  <thead>\n",
       "    <tr style=\"text-align: right;\">\n",
       "      <th></th>\n",
       "      <th>feature_prob_estimates</th>\n",
       "      <th>feature_names</th>\n",
       "    </tr>\n",
       "  </thead>\n",
       "  <tbody>\n",
       "    <tr>\n",
       "      <th>5002</th>\n",
       "      <td>-3.408348</td>\n",
       "      <td>mrs</td>\n",
       "    </tr>\n",
       "    <tr>\n",
       "      <th>5064</th>\n",
       "      <td>-3.522230</td>\n",
       "      <td>literacy_language</td>\n",
       "    </tr>\n",
       "    <tr>\n",
       "      <th>5008</th>\n",
       "      <td>-3.681484</td>\n",
       "      <td>grades_prek_2</td>\n",
       "    </tr>\n",
       "    <tr>\n",
       "      <th>5065</th>\n",
       "      <td>-3.825071</td>\n",
       "      <td>math_science</td>\n",
       "    </tr>\n",
       "    <tr>\n",
       "      <th>5003</th>\n",
       "      <td>-3.838324</td>\n",
       "      <td>ms</td>\n",
       "    </tr>\n",
       "    <tr>\n",
       "      <th>5005</th>\n",
       "      <td>-3.855554</td>\n",
       "      <td>grades_3_5</td>\n",
       "    </tr>\n",
       "    <tr>\n",
       "      <th>5086</th>\n",
       "      <td>-3.965673</td>\n",
       "      <td>literacy</td>\n",
       "    </tr>\n",
       "    <tr>\n",
       "      <th>5088</th>\n",
       "      <td>-4.197305</td>\n",
       "      <td>mathematics</td>\n",
       "    </tr>\n",
       "    <tr>\n",
       "      <th>5087</th>\n",
       "      <td>-4.356522</td>\n",
       "      <td>literature_writing</td>\n",
       "    </tr>\n",
       "    <tr>\n",
       "      <th>5062</th>\n",
       "      <td>-4.483758</td>\n",
       "      <td>health_sports</td>\n",
       "    </tr>\n",
       "  </tbody>\n",
       "</table>\n",
       "</div>"
      ],
      "text/plain": [
       "      feature_prob_estimates       feature_names\n",
       "5002               -3.408348                 mrs\n",
       "5064               -3.522230   literacy_language\n",
       "5008               -3.681484       grades_prek_2\n",
       "5065               -3.825071        math_science\n",
       "5003               -3.838324                  ms\n",
       "5005               -3.855554          grades_3_5\n",
       "5086               -3.965673            literacy\n",
       "5088               -4.197305         mathematics\n",
       "5087               -4.356522  literature_writing\n",
       "5062               -4.483758       health_sports"
      ]
     },
     "execution_count": 48,
     "metadata": {},
     "output_type": "execute_result"
    }
   ],
   "source": [
    "#Positive features\n",
    "tfidf_features_probs_pos = {}\n",
    "for a in range(totalFeatureNamesTfidf) :\n",
    "    tfidf_features_probs_pos[a] = nb_tfidf.feature_log_prob_[1,a]\n",
    "\n",
    "final_tfidf_features_pos = pd.DataFrame({'feature_prob_estimates' : list(tfidf_features_probs_pos.values()),\n",
    "'feature_names' : list(all_feature_names_tfidf)})\n",
    "\n",
    "b = final_tfidf_features_pos.sort_values(by = ['feature_prob_estimates'], ascending = False)\n",
    "\n",
    "print(\"TOP 10 Positive features - TFIDF\")\n",
    "b.head(10)"
   ]
  },
  {
   "cell_type": "markdown",
   "metadata": {
    "id": "lS9hIHdib3dp"
   },
   "source": [
    "<h1>3. Summary</h1>\n",
    "\n",
    "<br> as mentioned in the step 5 of instructions"
   ]
  },
  {
   "cell_type": "code",
   "execution_count": 53,
   "metadata": {},
   "outputs": [
    {
     "name": "stdout",
     "output_type": "stream",
     "text": [
      "+------------+-------------------------+-----------------------+-----------+----------+\n",
      "| Vectorizer |          Model          | Hyperparameter: Alpha | Train AUC | Test AUC |\n",
      "+------------+-------------------------+-----------------------+-----------+----------+\n",
      "|    BOW     | Multinomial Naive Bayes |           1           |    0.73   |   0.69   |\n",
      "|   TF-IDF   | Multinomial Naive Bayes |         0.063         |    0.72   |   0.67   |\n",
      "+------------+-------------------------+-----------------------+-----------+----------+\n"
     ]
    }
   ],
   "source": [
    "#Summarize your assignment work here in a few points, and also compare the final models (from set 1 and set 2), in terms of optimal hyperparameter value 'alpha', training AUC and test AUC scores.\n",
    "# You can either use a pretty table or any other tabular structure.\n",
    "# Reference Link for Pretty table:  https://pypi.org/project/prettytable/\n",
    "\n",
    "from prettytable import PrettyTable\n",
    "    \n",
    "x = PrettyTable()\n",
    "\n",
    "x.field_names = [\"Vectorizer\", \"Model\", \"Hyperparameter: Alpha\", \"Train AUC\", \"Test AUC\"]\n",
    "\n",
    "x.add_row([\"BOW\", \"Multinomial Naive Bayes\", best_alpha_bow, round(auc_set1_train,2),round(auc_set1_test,2)])\n",
    "x.add_row([\"TF-IDF\", \"Multinomial Naive Bayes\", best_alpha_tfidf, round(auc_set2_train,2),round(auc_set2_test,2)])\n",
    "\n",
    "print(x)"
   ]
  },
  {
   "cell_type": "code",
   "execution_count": 51,
   "metadata": {},
   "outputs": [
    {
     "name": "stdout",
     "output_type": "stream",
     "text": [
      "Collecting prettytable\n",
      "  Downloading prettytable-2.5.0-py3-none-any.whl (24 kB)\n",
      "Collecting importlib-metadata\n",
      "  Downloading importlib_metadata-4.8.3-py3-none-any.whl (17 kB)\n",
      "Requirement already satisfied: wcwidth in c:\\users\\nikita\\anaconda3\\lib\\site-packages (from prettytable) (0.1.7)\n",
      "Collecting typing-extensions>=3.6.4\n",
      "  Downloading typing_extensions-4.0.1-py3-none-any.whl (22 kB)\n",
      "Collecting zipp>=0.5\n",
      "  Downloading zipp-3.6.0-py3-none-any.whl (5.3 kB)\n",
      "Installing collected packages: zipp, typing-extensions, importlib-metadata, prettytable\n",
      "Successfully installed importlib-metadata-4.8.3 prettytable-2.5.0 typing-extensions-4.0.1 zipp-3.6.0\n"
     ]
    }
   ],
   "source": [
    "!pip install prettytable"
   ]
  },
  {
   "cell_type": "code",
   "execution_count": null,
   "metadata": {},
   "outputs": [],
   "source": []
  }
 ],
 "metadata": {
  "colab": {
   "collapsed_sections": [],
   "name": "6_Assignment_NB_Instructions.ipynb",
   "provenance": []
  },
  "kernelspec": {
   "display_name": "Python 3",
   "language": "python",
   "name": "python3"
  },
  "language_info": {
   "codemirror_mode": {
    "name": "ipython",
    "version": 3
   },
   "file_extension": ".py",
   "mimetype": "text/x-python",
   "name": "python",
   "nbconvert_exporter": "python",
   "pygments_lexer": "ipython3",
   "version": "3.6.5"
  }
 },
 "nbformat": 4,
 "nbformat_minor": 1
}
